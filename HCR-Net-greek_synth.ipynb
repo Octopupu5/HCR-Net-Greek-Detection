{
 "cells": [
  {
   "cell_type": "code",
   "execution_count": null,
   "metadata": {},
   "outputs": [],
   "source": [
    "import tensorflow as tf\n",
    "import DataGenerator\n",
    "from tensorflow.keras.layers import Conv2D, Flatten, Dense, Input, BatchNormalization, Dropout\n",
    "from tensorflow.keras.models import Model\n",
    "from keras.applications.vgg16 import VGG16\n",
    "\n",
    "num_classes = 96\n",
    "\n",
    "input_shape = (448, 448, 3)\n",
    "\n",
    "base_model = VGG16(weights='imagenet', include_top=False, input_shape=input_shape)\n",
    "\n",
    "for layer in base_model.layers:\n",
    "    layer.trainable = False\n",
    "\n",
    "x = base_model.output\n",
    "x = BatchNormalization()(x)\n",
    "x = Flatten()(x)\n",
    "x = Dense(512, activation='relu')(x)\n",
    "x = BatchNormalization()(x)\n",
    "x = Dropout(0.35)(x)\n",
    "x = Dense(512, activation='relu')(x)\n",
    "x = BatchNormalization()(x)\n",
    "x = Dropout(0.35)(x)\n",
    "\n",
    "bbox_output = Dense(4, activation='linear', name='bboxes_output')(x)\n",
    "\n",
    "labels_output = Dense(num_classes, activation='softmax', name='labels_output')(x)\n",
    "\n",
    "model = Model(inputs=base_model.input, outputs=[bbox_output, labels_output])\n",
    "\n",
    "model.compile(optimizer='rmsprop', loss={'bboxes_output': 'mean_squared_error', 'labels_output': 'categorical_crossentropy'}, metrics={'bboxes_output': 'mse', 'labels_output': 'accuracy'})\n",
    "\n",
    "print(model.summary())\n",
    "\n",
    "image_dir = 'output'\n",
    "annotation_dir = 'output'\n",
    "\n",
    "batch_size = 8\n",
    "epochs = 100\n",
    "\n",
    "train_generator = DataGenerator(image_dir, annotation_dir, batch_size=batch_size, image_size=448)\n",
    "validation_generator = DataGenerator(image_dir, annotation_dir, batch_size=batch_size, image_size=448)\n",
    "\n",
    "history = model.fit(train_generator, validation_data=validation_generator, epochs=epochs, steps_per_epoch=len(train_generator), validation_steps=len(validation_generator))\n",
    "\n",
    "model.save_weights('./results/HCR-Net-Detection.h5')"
   ]
  }
 ],
 "metadata": {
  "language_info": {
   "name": "python"
  }
 },
 "nbformat": 4,
 "nbformat_minor": 2
}
